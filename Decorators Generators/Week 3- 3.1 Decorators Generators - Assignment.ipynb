{
 "cells": [
  {
   "cell_type": "markdown",
   "metadata": {},
   "source": [
    "## Week 3: 3.1 Decorators Generators\n",
    "**by Sarthak Niwate (Intern at Chistats)**"
   ]
  },
  {
   "cell_type": "markdown",
   "metadata": {},
   "source": [
    "#### Decorators in Python"
   ]
  },
  {
   "cell_type": "code",
   "execution_count": 1,
   "metadata": {},
   "outputs": [
    {
     "name": "stdout",
     "output_type": "stream",
     "text": [
      "50\n",
      "-5\n"
     ]
    }
   ],
   "source": [
    "def add(a,b):\n",
    "    res = a + b\n",
    "    return res\n",
    "\n",
    "print(add(20,30))\n",
    "print(add(-10,5))"
   ]
  },
  {
   "cell_type": "code",
   "execution_count": 3,
   "metadata": {},
   "outputs": [
    {
     "name": "stdout",
     "output_type": "stream",
     "text": [
      "50\n",
      "5\n"
     ]
    }
   ],
   "source": [
    "def decor(func):\n",
    "    def inner_function(x,y):\n",
    "        if x<0:\n",
    "            x = 0\n",
    "        if y<0:\n",
    "            y = 0\n",
    "        return func(x,y)\n",
    "    return inner_function \n",
    "\n",
    "def add(a,b):\n",
    "    res = a + b\n",
    "    return res\n",
    "\n",
    "add = decor(add)\n",
    "print(add(20,30))\n",
    "print(add(-10,5))"
   ]
  },
  {
   "cell_type": "markdown",
   "metadata": {},
   "source": [
    "#### @ symbol in python"
   ]
  },
  {
   "cell_type": "code",
   "execution_count": 4,
   "metadata": {},
   "outputs": [
    {
     "name": "stdout",
     "output_type": "stream",
     "text": [
      "10\n",
      "10\n"
     ]
    }
   ],
   "source": [
    "def decor(func):\n",
    "    def inner_function(x,y):\n",
    "        if x<0:\n",
    "            x = 0\n",
    "        if y<0:\n",
    "            y = 0\n",
    "        return func(x,y)\n",
    "    return inner_function \n",
    "\n",
    "@decor\n",
    "def sub(a,b):\n",
    "    res = a - b\n",
    "    return res\n",
    "\n",
    "print(sub(30,20))\n",
    "print(sub(10,-5))"
   ]
  },
  {
   "cell_type": "code",
   "execution_count": 5,
   "metadata": {},
   "outputs": [
    {
     "name": "stdout",
     "output_type": "stream",
     "text": [
      "<generator object m at 0x0000019B6CB9F740>\n",
      "<class 'generator'>\n",
      "Mahesh\n",
      "Suresh\n"
     ]
    }
   ],
   "source": [
    "def m():\n",
    "    yield 'Mahesh'\n",
    "    yield 'Suresh'\n",
    "\n",
    "g = m()\n",
    "print(g)\n",
    "print(type(g))\n",
    "for y in g:\n",
    "    print(y)"
   ]
  },
  {
   "cell_type": "code",
   "execution_count": 6,
   "metadata": {},
   "outputs": [
    {
     "name": "stdout",
     "output_type": "stream",
     "text": [
      "5\n",
      "6\n",
      "7\n",
      "8\n",
      "9\n",
      "10\n"
     ]
    }
   ],
   "source": [
    "def m(x, y):\n",
    "    while x<=y:\n",
    "        yield x\n",
    "        x+=1\n",
    "\n",
    "g = m(5, 10)\n",
    "for y in g:\n",
    "    print(y) "
   ]
  },
  {
   "cell_type": "markdown",
   "metadata": {},
   "source": [
    "#### next function in Python"
   ]
  },
  {
   "cell_type": "code",
   "execution_count": 7,
   "metadata": {},
   "outputs": [
    {
     "name": "stdout",
     "output_type": "stream",
     "text": [
      "<class 'generator'>\n",
      "Mahesh\n",
      "Suresh\n"
     ]
    }
   ],
   "source": [
    "def m():\n",
    "    yield 'Mahesh'\n",
    "    yield 'Suresh'\n",
    "g = m()\n",
    "\n",
    "print(type(g))\n",
    "print(next(g))\n",
    "print(next(g))"
   ]
  },
  {
   "cell_type": "code",
   "execution_count": null,
   "metadata": {},
   "outputs": [],
   "source": []
  }
 ],
 "metadata": {
  "kernelspec": {
   "display_name": "Python 3",
   "language": "python",
   "name": "python3"
  },
  "language_info": {
   "codemirror_mode": {
    "name": "ipython",
    "version": 3
   },
   "file_extension": ".py",
   "mimetype": "text/x-python",
   "name": "python",
   "nbconvert_exporter": "python",
   "pygments_lexer": "ipython3",
   "version": "3.8.3"
  }
 },
 "nbformat": 4,
 "nbformat_minor": 4
}
