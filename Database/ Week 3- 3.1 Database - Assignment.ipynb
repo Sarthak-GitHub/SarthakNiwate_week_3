{
 "cells": [
  {
   "cell_type": "markdown",
   "metadata": {},
   "source": [
    "## Week 3: 3.1 Database\n",
    "**by Sarthak Niwate (Intern at Chistats)**"
   ]
  },
  {
   "cell_type": "markdown",
   "metadata": {},
   "source": [
    "#### Establishing a Connection With MySQL Server"
   ]
  },
  {
   "cell_type": "code",
   "execution_count": 12,
   "metadata": {},
   "outputs": [
    {
     "name": "stdout",
     "output_type": "stream",
     "text": [
      "Enter username: root\n",
      "Enter password: ········\n",
      "<mysql.connector.connection.MySQLConnection object at 0x00000206A548F0A0>\n"
     ]
    }
   ],
   "source": [
    "from getpass import getpass\n",
    "from mysql.connector import connect, Error\n",
    "\n",
    "try:\n",
    "    with connect(\n",
    "        host=\"localhost\",\n",
    "        user=input(\"Enter username: \"),\n",
    "        password=getpass(\"Enter password: \"),\n",
    "    ) as connection:\n",
    "        print(connection)\n",
    "except Error as e:\n",
    "    print(e)"
   ]
  },
  {
   "cell_type": "markdown",
   "metadata": {},
   "source": [
    "#### Creating a Database"
   ]
  },
  {
   "cell_type": "code",
   "execution_count": 18,
   "metadata": {},
   "outputs": [
    {
     "name": "stdout",
     "output_type": "stream",
     "text": [
      "Enter username: root\n",
      "Enter password: ········\n"
     ]
    }
   ],
   "source": [
    "try:\n",
    "    with connect(\n",
    "        host=\"localhost\",\n",
    "        user=input(\"Enter username: \"),\n",
    "        password=getpass(\"Enter password: \"),\n",
    "    ) as connection:\n",
    "        create_db_query = \"CREATE DATABASE online_movie_rating\"\n",
    "        with connection.cursor() as cursor:\n",
    "            cursor.execute(create_db_query)\n",
    "except Error as e:\n",
    "    print(e)"
   ]
  },
  {
   "cell_type": "markdown",
   "metadata": {},
   "source": [
    "#### See all the databses"
   ]
  },
  {
   "cell_type": "code",
   "execution_count": 19,
   "metadata": {},
   "outputs": [
    {
     "name": "stdout",
     "output_type": "stream",
     "text": [
      "Enter username: root\n",
      "Enter password: ········\n",
      "('asgnm_sql2',)\n",
      "('bank',)\n",
      "('coding_ninjas_task',)\n",
      "('complaints',)\n",
      "('cricket',)\n",
      "('hr',)\n",
      "('in4',)\n",
      "('inclass',)\n",
      "('information_schema',)\n",
      "('ipl',)\n",
      "('laptop',)\n",
      "('mini_project_2',)\n",
      "('mysql',)\n",
      "('online_movie_rating',)\n",
      "('orders',)\n",
      "('performance_schema',)\n",
      "('practice_joins',)\n",
      "('pythonlogin',)\n",
      "('sakila',)\n",
      "('sample',)\n",
      "('sys',)\n",
      "('th3',)\n",
      "('video_games',)\n",
      "('waste_calculator',)\n",
      "('world',)\n"
     ]
    }
   ],
   "source": [
    "try:\n",
    "    with connect(\n",
    "        host=\"localhost\",\n",
    "        user=input(\"Enter username: \"),\n",
    "        password=getpass(\"Enter password: \"),\n",
    "    ) as connection:\n",
    "        create_db_query = \"SHOW DATABASES\"\n",
    "        with connection.cursor() as cursor:\n",
    "            cursor.execute(create_db_query)\n",
    "            for db in cursor:\n",
    "                print(db)\n",
    "except Error as e:\n",
    "    print(e)"
   ]
  },
  {
   "cell_type": "markdown",
   "metadata": {},
   "source": [
    "#### Creating Tables Using the CREATE TABLE Statement"
   ]
  },
  {
   "cell_type": "code",
   "execution_count": 20,
   "metadata": {},
   "outputs": [
    {
     "name": "stdout",
     "output_type": "stream",
     "text": [
      "Enter username: root\n",
      "Enter password: ········\n",
      "('id', b'int', 'NO', 'PRI', None, 'auto_increment')\n",
      "('title', b'varchar(100)', 'YES', '', None, '')\n",
      "('release_year', b'year', 'YES', '', None, '')\n",
      "('genre', b'varchar(100)', 'YES', '', None, '')\n",
      "('collection_in_mil', b'int', 'YES', '', None, '')\n",
      "\n",
      "Movie Table Schema after alteration:\n"
     ]
    }
   ],
   "source": [
    "try:\n",
    "    with connect(\n",
    "        host=\"localhost\",\n",
    "        user=input(\"Enter username: \"),\n",
    "        password=getpass(\"Enter password: \"),\n",
    "    ) as connection:\n",
    "        \n",
    "        use_database = \"\"\"USE online_movie_rating\"\"\"\n",
    "        \n",
    "        create_movies_table_query = \"\"\"\n",
    "            CREATE TABLE movies(\n",
    "            id INT AUTO_INCREMENT PRIMARY KEY,\n",
    "            title VARCHAR(100),\n",
    "            release_year YEAR(4),\n",
    "            genre VARCHAR(100),\n",
    "            collection_in_mil INT\n",
    "            )\n",
    "            \"\"\"\n",
    "        create_reviewers_table_query = \"\"\"\n",
    "            CREATE TABLE reviewers (\n",
    "            id INT AUTO_INCREMENT PRIMARY KEY,\n",
    "            first_name VARCHAR(100),\n",
    "            last_name VARCHAR(100)\n",
    "            )\n",
    "            \"\"\"\n",
    "        create_ratings_table_query = \"\"\"\n",
    "            CREATE TABLE ratings (\n",
    "            movie_id INT,\n",
    "            reviewer_id INT,\n",
    "            rating DECIMAL(2,1),\n",
    "            FOREIGN KEY(movie_id) REFERENCES movies(id),\n",
    "            FOREIGN KEY(reviewer_id) REFERENCES reviewers(id),\n",
    "            PRIMARY KEY(movie_id, reviewer_id)\n",
    "            )\n",
    "            \"\"\"\n",
    "        show_movies_table_query = \"DESCRIBE movies\"\n",
    "        \n",
    "        alter_movies_table_query = \"\"\"\n",
    "            ALTER TABLE movies\n",
    "            MODIFY COLUMN collection_in_mil DECIMAL(4,1)\n",
    "            \"\"\"\n",
    "        #drop_ratings_table_query = \"DROP TABLE ratings\"\n",
    "        \n",
    "        with connection.cursor() as cursor:\n",
    "            cursor.execute(use_database)\n",
    "            cursor.execute(create_movies_table_query)\n",
    "            cursor.execute(create_reviewers_table_query)\n",
    "            cursor.execute(create_ratings_table_query)\n",
    "            connection.commit()\n",
    "            \n",
    "            cursor.execute(show_movies_table_query)\n",
    "            result1 = cursor.fetchall()\n",
    "            for row in result1:\n",
    "                print(row)\n",
    "                \n",
    "            cursor.execute(alter_movies_table_query)\n",
    "            result2 = cursor.fetchall()\n",
    "            print(\"\\nMovie Table Schema after alteration:\")\n",
    "            for row in result2:\n",
    "                print(row)\n",
    "            \n",
    "            #cursor.execute(drop_ratings_table_query)\n",
    "            \n",
    "except Error as e:\n",
    "    print(e)"
   ]
  },
  {
   "cell_type": "markdown",
   "metadata": {},
   "source": [
    "#### Inserting Records in Tables"
   ]
  },
  {
   "cell_type": "code",
   "execution_count": 21,
   "metadata": {},
   "outputs": [
    {
     "name": "stdout",
     "output_type": "stream",
     "text": [
      "Enter username: root\n",
      "Enter password: ········\n"
     ]
    }
   ],
   "source": [
    "try:\n",
    "    with connect(\n",
    "        host=\"localhost\",\n",
    "        user=input(\"Enter username: \"),\n",
    "        password=getpass(\"Enter password: \"),\n",
    "    ) as connection:\n",
    "        \n",
    "        use_database = \"\"\"USE online_movie_rating\"\"\"\n",
    "        \n",
    "        insert_movies_query = \"\"\"\n",
    "            INSERT INTO movies (title, release_year, genre, collection_in_mil)\n",
    "            VALUES\n",
    "                (\"Forrest Gump\", 1994, \"Drama\", 330.2),\n",
    "                (\"3 Idiots\", 2009, \"Drama\", 2.4),\n",
    "                (\"Eternal Sunshine of the Spotless Mind\", 2004, \"Drama\", 34.5),\n",
    "                (\"Good Will Hunting\", 1997, \"Drama\", 138.1),\n",
    "                (\"Skyfall\", 2012, \"Action\", 304.6),\n",
    "                (\"Gladiator\", 2000, \"Action\", 188.7),\n",
    "                (\"Black\", 2005, \"Drama\", 3.0),\n",
    "                (\"Titanic\", 1997, \"Romance\", 659.2),\n",
    "                (\"The Shawshank Redemption\", 1994, \"Drama\",28.4),\n",
    "                (\"Udaan\", 2010, \"Drama\", 1.5),\n",
    "                (\"Home Alone\", 1990, \"Comedy\", 286.9),\n",
    "                (\"Casablanca\", 1942, \"Romance\", 1.0),\n",
    "                (\"Avengers: Endgame\", 2019, \"Action\", 858.8),\n",
    "                (\"Night of the Living Dead\", 1968, \"Horror\", 2.5),\n",
    "                (\"The Godfather\", 1972, \"Crime\", 135.6),\n",
    "                (\"Haider\", 2014, \"Action\", 4.2),\n",
    "                (\"Inception\", 2010, \"Adventure\", 293.7),\n",
    "                (\"Evil\", 2003, \"Horror\", 1.3),\n",
    "                (\"Toy Story 4\", 2019, \"Animation\", 434.9),\n",
    "                (\"Air Force One\", 1997, \"Drama\", 138.1),\n",
    "                (\"The Dark Knight\", 2008, \"Action\",535.4),\n",
    "                (\"Bhaag Milkha Bhaag\", 2013, \"Sport\", 4.1),\n",
    "                (\"The Lion King\", 1994, \"Animation\", 423.6),\n",
    "                (\"Pulp Fiction\", 1994, \"Crime\", 108.8),\n",
    "                (\"Kai Po Che\", 2013, \"Sport\", 6.0),\n",
    "                (\"Beasts of No Nation\", 2015, \"War\", 1.4),\n",
    "                (\"Andadhun\", 2018, \"Thriller\", 2.9),\n",
    "                (\"The Silence of the Lambs\", 1991, \"Crime\", 68.2),\n",
    "                (\"Deadpool\", 2016, \"Action\", 363.6),\n",
    "                (\"Drishyam\", 2015, \"Mystery\", 3.0)\n",
    "            \"\"\"\n",
    "        \n",
    "        insert_reviewers_query = \"\"\"\n",
    "            INSERT INTO reviewers\n",
    "            (first_name, last_name)\n",
    "            VALUES ( %s, %s )\n",
    "            \"\"\"\n",
    "        reviewers_records = [\n",
    "            (\"Chaitanya\", \"Baweja\"),\n",
    "            (\"Mary\", \"Cooper\"),\n",
    "            (\"John\", \"Wayne\"),\n",
    "            (\"Thomas\", \"Stoneman\"),\n",
    "            (\"Penny\", \"Hofstadter\"),\n",
    "            (\"Mitchell\", \"Marsh\"),\n",
    "            (\"Wyatt\", \"Skaggs\"),\n",
    "            (\"Andre\", \"Veiga\"),\n",
    "            (\"Sheldon\", \"Cooper\"),\n",
    "            (\"Kimbra\", \"Masters\"),\n",
    "            (\"Kat\", \"Dennings\"),\n",
    "            (\"Bruce\", \"Wayne\"),\n",
    "            (\"Domingo\", \"Cortes\"),\n",
    "            (\"Rajesh\", \"Koothrappali\"),\n",
    "            (\"Ben\", \"Glocker\"),\n",
    "            (\"Mahinder\", \"Dhoni\"),\n",
    "            (\"Akbar\", \"Khan\"),\n",
    "            (\"Howard\", \"Wolowitz\"),\n",
    "            (\"Pinkie\", \"Petit\"),\n",
    "            (\"Gurkaran\", \"Singh\"),\n",
    "            (\"Amy\", \"Farah Fowler\"),\n",
    "            (\"Marlon\", \"Crafford\"),\n",
    "            ]\n",
    "        \n",
    "        \n",
    "        insert_ratings_query = \"\"\"\n",
    "            INSERT INTO ratings\n",
    "            (rating, movie_id, reviewer_id)\n",
    "            VALUES ( %s, %s, %s)\n",
    "            \"\"\"\n",
    "        ratings_records = [\n",
    "            (6.4, 17, 5), (5.6, 19, 1), (6.3, 22, 14), (5.1, 21, 17),\n",
    "            (5.0, 5, 5), (6.5, 21, 5), (8.5, 30, 13), (9.7, 6, 4),\n",
    "            (8.5, 24, 12), (9.9, 14, 9), (8.7, 26, 14), (9.9, 6, 10),\n",
    "            (5.1, 30, 6), (5.4, 18, 16), (6.2, 6, 20), (7.3, 21, 19),\n",
    "            (8.1, 17, 18), (5.0, 7, 2), (9.8, 23, 3), (8.0, 22, 9),\n",
    "            (8.5, 11, 13), (5.0, 5, 11), (5.7, 8, 2), (7.6, 25, 19),\n",
    "            (5.2, 18, 15), (9.7, 13, 3), (5.8, 18, 8), (5.8, 30, 15),\n",
    "            (8.4, 21, 18), (6.2, 23, 16), (7.0, 10, 18), (9.5, 30, 20),\n",
    "            (8.9, 3, 19), (6.4, 12, 2), (7.8, 12, 22), (9.9, 15, 13),\n",
    "            (7.5, 20, 17), (9.0, 25, 6), (8.5, 23, 2), (5.3, 30, 17),\n",
    "            (6.4, 5, 10), (8.1, 5, 21), (5.7, 22, 1), (6.3, 28, 4),\n",
    "            (9.8, 13, 1)\n",
    "            ]\n",
    "        \n",
    "        \n",
    "        with connection.cursor() as cursor:\n",
    "            cursor.execute(use_database)\n",
    "            cursor.execute(insert_movies_query)\n",
    "            cursor.executemany(insert_reviewers_query, reviewers_records)\n",
    "            cursor.executemany(insert_ratings_query, ratings_records)\n",
    "            connection.commit()\n",
    "            \n",
    "except Error as e:\n",
    "    print(e)"
   ]
  },
  {
   "cell_type": "markdown",
   "metadata": {},
   "source": [
    "#### Reading Records From the Database"
   ]
  },
  {
   "cell_type": "code",
   "execution_count": 24,
   "metadata": {},
   "outputs": [
    {
     "name": "stdout",
     "output_type": "stream",
     "text": [
      "Enter username: root\n",
      "Enter password: ········\n",
      "(1, 'Forrest Gump', 1994, 'Drama', Decimal('330.2'))\n",
      "(2, '3 Idiots', 2009, 'Drama', Decimal('2.4'))\n",
      "(3, 'Eternal Sunshine of the Spotless Mind', 2004, 'Drama', Decimal('34.5'))\n",
      "(4, 'Good Will Hunting', 1997, 'Drama', Decimal('138.1'))\n",
      "(5, 'Skyfall', 2012, 'Action', Decimal('304.6'))\n",
      "\n",
      "('Forrest Gump', 1994)\n",
      "('3 Idiots', 2009)\n",
      "('Eternal Sunshine of the Spotless Mind', 2004)\n",
      "('Good Will Hunting', 1997)\n",
      "('Skyfall', 2012)\n",
      "\n"
     ]
    }
   ],
   "source": [
    "try:\n",
    "    with connect(\n",
    "        host=\"localhost\",\n",
    "        user=input(\"Enter username: \"),\n",
    "        password=getpass(\"Enter password: \"),\n",
    "    ) as connection:\n",
    "        \n",
    "        use_database = \"\"\"USE online_movie_rating\"\"\"\n",
    "        select_movies_query1 = \"SELECT * FROM movies LIMIT 5\"\n",
    "        select_movies_query2 = \"SELECT title, release_year FROM movies LIMIT 5\"\n",
    "        \n",
    "        with connection.cursor() as cursor:\n",
    "            cursor.execute(use_database)\n",
    "            cursor.execute(select_movies_query1)\n",
    "            r1 = cursor.fetchall()\n",
    "            for i in r1:\n",
    "                print(i)\n",
    "            print()\n",
    "            \n",
    "            cursor.execute(select_movies_query2)\n",
    "            r2 = cursor.fetchall()\n",
    "            for i in r2:\n",
    "                print(i)\n",
    "            print()\n",
    "            \n",
    "except Error as e:\n",
    "    print(e)                "
   ]
  },
  {
   "cell_type": "markdown",
   "metadata": {},
   "source": [
    "#### Filtering Results Using the WHERE Clause"
   ]
  },
  {
   "cell_type": "code",
   "execution_count": 27,
   "metadata": {},
   "outputs": [
    {
     "name": "stdout",
     "output_type": "stream",
     "text": [
      "Enter username: root\n",
      "Enter password: ········\n",
      "('Avengers: Endgame', Decimal('858.8'))\n",
      "('Titanic', Decimal('659.2'))\n",
      "('The Dark Knight', Decimal('535.4'))\n",
      "('Toy Story 4', Decimal('434.9'))\n",
      "('The Lion King', Decimal('423.6'))\n",
      "('Deadpool', Decimal('363.6'))\n",
      "('Forrest Gump', Decimal('330.2'))\n",
      "('Skyfall', Decimal('304.6'))\n",
      "\n",
      "('Avengers: Endgame (2019)', Decimal('858.8'))\n",
      "('Titanic (1997)', Decimal('659.2'))\n",
      "('The Dark Knight (2008)', Decimal('535.4'))\n",
      "('Toy Story 4 (2019)', Decimal('434.9'))\n",
      "('The Lion King (1994)', Decimal('423.6'))\n",
      "\n",
      "('Avengers: Endgame (2019)', Decimal('858.8'))\n",
      "('Titanic (1997)', Decimal('659.2'))\n",
      "('The Dark Knight (2008)', Decimal('535.4'))\n",
      "('Toy Story 4 (2019)', Decimal('434.9'))\n",
      "('The Lion King (1994)', Decimal('423.6'))\n",
      "\n"
     ]
    }
   ],
   "source": [
    "try:\n",
    "    with connect(\n",
    "        host=\"localhost\",\n",
    "        user=input(\"Enter username: \"),\n",
    "        password=getpass(\"Enter password: \"),\n",
    "    ) as connection:\n",
    "        \n",
    "        use_database = \"\"\"USE online_movie_rating\"\"\"\n",
    "        \n",
    "        select_movies_filter_query1 = \"\"\"SELECT title, collection_in_mil\n",
    "            FROM movies\n",
    "            WHERE collection_in_mil > 300\n",
    "            ORDER BY collection_in_mil DESC\n",
    "            \"\"\"\n",
    "        \n",
    "        select_movies_filter_query2 = \"\"\"\n",
    "            SELECT CONCAT(title, \" (\", release_year, \")\"),\n",
    "            collection_in_mil\n",
    "            FROM movies\n",
    "            ORDER BY collection_in_mil DESC\n",
    "            LIMIT 5\n",
    "            \"\"\"\n",
    "        \n",
    "        select_movies_filter_query3 = \"\"\"\n",
    "            SELECT CONCAT(title, \" (\", release_year, \")\"),\n",
    "            collection_in_mil\n",
    "            FROM movies\n",
    "            ORDER BY collection_in_mil DESC\n",
    "            \"\"\"\n",
    "        \n",
    "        with connection.cursor() as cursor:\n",
    "            cursor.execute(use_database)\n",
    "            cursor.execute(select_movies_filter_query1)\n",
    "            r1 = cursor.fetchall()\n",
    "            for i in r1:\n",
    "                print(i)\n",
    "            print()\n",
    "            \n",
    "            cursor.execute(select_movies_filter_query2)\n",
    "            r2 = cursor.fetchall()\n",
    "            for i in r2:\n",
    "                print(i)\n",
    "            print()\n",
    "            \n",
    "            cursor.execute(select_movies_filter_query3)\n",
    "            for i in cursor.fetchmany(size=5):\n",
    "                print(i)\n",
    "            cursor.fetchall()\n",
    "            print()\n",
    "            \n",
    "except Error as e:\n",
    "    print(e)     "
   ]
  },
  {
   "cell_type": "markdown",
   "metadata": {},
   "source": [
    "#### Handling Multiple Tables Using the JOIN Statement"
   ]
  },
  {
   "cell_type": "code",
   "execution_count": 28,
   "metadata": {},
   "outputs": [
    {
     "name": "stdout",
     "output_type": "stream",
     "text": [
      "Enter username: root\n",
      "Enter password: ········\n",
      "('The Godfather', Decimal('9.90000'))\n",
      "('Night of the Living Dead', Decimal('9.90000'))\n",
      "('Avengers: Endgame', Decimal('9.75000'))\n",
      "('Eternal Sunshine of the Spotless Mind', Decimal('8.90000'))\n",
      "('Beasts of No Nation', Decimal('8.70000'))\n",
      "\n",
      "('Mary Cooper', 4)\n",
      "\n"
     ]
    }
   ],
   "source": [
    "try:\n",
    "    with connect(\n",
    "        host=\"localhost\",\n",
    "        user=input(\"Enter username: \"),\n",
    "        password=getpass(\"Enter password: \"),\n",
    "    ) as connection:\n",
    "        \n",
    "        use_database = \"\"\"USE online_movie_rating\"\"\"\n",
    "        \n",
    "        select_movies_join_query1 = \"\"\"\n",
    "            SELECT title, AVG(rating) as average_rating\n",
    "            FROM ratings\n",
    "            INNER JOIN movies\n",
    "                ON movies.id = ratings.movie_id\n",
    "            GROUP BY movie_id\n",
    "            ORDER BY average_rating DESC\n",
    "            LIMIT 5\n",
    "            \"\"\"\n",
    "        \n",
    "        select_movies_join_query2 = \"\"\"\n",
    "            SELECT CONCAT(first_name, \" \", last_name), COUNT(*) as num\n",
    "            FROM reviewers\n",
    "            INNER JOIN ratings\n",
    "                ON reviewers.id = ratings.reviewer_id\n",
    "            GROUP BY reviewer_id\n",
    "            ORDER BY num DESC\n",
    "            LIMIT 1\n",
    "            \"\"\"\n",
    "        \n",
    "        with connection.cursor() as cursor:\n",
    "            cursor.execute(use_database)\n",
    "            cursor.execute(select_movies_join_query1)\n",
    "            r1 = cursor.fetchall()\n",
    "            for i in r1:\n",
    "                print(i)\n",
    "            print()\n",
    "            \n",
    "            cursor.execute(select_movies_join_query2)\n",
    "            r2 = cursor.fetchall()\n",
    "            for i in r2:\n",
    "                print(i)\n",
    "            print()\n",
    "            \n",
    "except Error as e:\n",
    "    print(e)     "
   ]
  },
  {
   "cell_type": "markdown",
   "metadata": {},
   "source": [
    "#### Updating and Deleting Records From the Database"
   ]
  },
  {
   "cell_type": "code",
   "execution_count": 30,
   "metadata": {},
   "outputs": [
    {
     "name": "stdout",
     "output_type": "stream",
     "text": [
      "Enter movie id: 18\n",
      "Enter reviewer id: 15\n",
      "Enter new rating: 5\n",
      "Enter username: root\n",
      "Enter password: ········\n",
      "[(18, 15, Decimal('5.0'))]\n"
     ]
    }
   ],
   "source": [
    "movie_id = input(\"Enter movie id: \")\n",
    "reviewer_id = input(\"Enter reviewer id: \")\n",
    "new_rating = input(\"Enter new rating: \")\n",
    "update_query = \"\"\"\n",
    "UPDATE\n",
    "    ratings\n",
    "SET\n",
    "    rating = \"%s\"\n",
    "WHERE\n",
    "    movie_id = \"%s\" AND reviewer_id = \"%s\";\n",
    "\n",
    "SELECT *\n",
    "FROM ratings\n",
    "WHERE\n",
    "    movie_id = \"%s\" AND reviewer_id = \"%s\"\n",
    "\"\"\" % (\n",
    "    new_rating,\n",
    "    movie_id,\n",
    "    reviewer_id,\n",
    "    movie_id,\n",
    "    reviewer_id,\n",
    ")\n",
    "\n",
    "try:\n",
    "    with connect(\n",
    "        host=\"localhost\",\n",
    "        user=input(\"Enter username: \"),\n",
    "        password=getpass(\"Enter password: \"),\n",
    "        database=\"online_movie_rating\",\n",
    "    ) as connection:\n",
    "        with connection.cursor() as cursor:\n",
    "            for result in cursor.execute(update_query, multi=True):\n",
    "                if result.with_rows:\n",
    "                    print(result.fetchall())\n",
    "            connection.commit()\n",
    "except Error as e:\n",
    "    print(e)"
   ]
  },
  {
   "cell_type": "markdown",
   "metadata": {},
   "source": [
    "#### Delete Command"
   ]
  },
  {
   "cell_type": "code",
   "execution_count": 32,
   "metadata": {},
   "outputs": [
    {
     "name": "stdout",
     "output_type": "stream",
     "text": [
      "Enter username: root\n",
      "Enter password: ········\n",
      "(2, 7)\n",
      "(2, 8)\n",
      "(2, 12)\n",
      "(2, 23)\n",
      "\n"
     ]
    }
   ],
   "source": [
    "try:\n",
    "    with connect(\n",
    "        host=\"localhost\",\n",
    "        user=input(\"Enter username: \"),\n",
    "        password=getpass(\"Enter password: \"),\n",
    "    ) as connection:\n",
    "        \n",
    "        use_database = \"\"\"USE online_movie_rating\"\"\"\n",
    "        select_movies_query = \"\"\"\n",
    "            SELECT reviewer_id, movie_id FROM ratings\n",
    "            WHERE reviewer_id = 2\n",
    "            \"\"\"\n",
    "        delete_query = \"DELETE FROM ratings WHERE reviewer_id = 2\"\n",
    "        \n",
    "        with connection.cursor() as cursor:\n",
    "            cursor.execute(use_database)\n",
    "            cursor.execute(select_movies_query)\n",
    "            r1 = cursor.fetchall()\n",
    "            for i in r1:\n",
    "                print(i)\n",
    "            print()\n",
    "            \n",
    "            cursor.execute(delete_query)\n",
    "            connection.commit()\n",
    "            \n",
    "except Error as e:\n",
    "    print(e)                "
   ]
  },
  {
   "cell_type": "markdown",
   "metadata": {},
   "source": [
    "## Thank You!"
   ]
  }
 ],
 "metadata": {
  "kernelspec": {
   "display_name": "Python 3",
   "language": "python",
   "name": "python3"
  },
  "language_info": {
   "codemirror_mode": {
    "name": "ipython",
    "version": 3
   },
   "file_extension": ".py",
   "mimetype": "text/x-python",
   "name": "python",
   "nbconvert_exporter": "python",
   "pygments_lexer": "ipython3",
   "version": "3.8.3"
  }
 },
 "nbformat": 4,
 "nbformat_minor": 4
}
